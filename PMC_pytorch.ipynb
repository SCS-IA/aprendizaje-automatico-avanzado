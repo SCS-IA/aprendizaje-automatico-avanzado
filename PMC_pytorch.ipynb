{
 "cells": [
  {
   "cell_type": "code",
   "execution_count": 1,
   "id": "8d5586d0",
   "metadata": {},
   "outputs": [
    {
     "name": "stdout",
     "output_type": "stream",
     "text": [
      "Error: No se encontró el archivo 'PMC/modelo.pth' en 'weights'.\n",
      "Tamaño de corpus: 57057\n",
      "Tamaño de vocabulario: 10607\n",
      "Modelo cargado correctamente en cuda.\n",
      "Generando texto desde: 'hoy es un bun día para'\n",
      "------------------------------\n",
      "\n",
      "--- Con Softmax (Muestreo) ---\n",
      "hoy es un bun día para acarician simplicidad cocteau dear trabado ratas dueños grita recortar caracalla buscarlas joven vacaciones subcomisario alentándonos brechas descripción esperarse entendían niegan\n",
      "\n",
      "--- Sin Softmax (Greedy/Argmax) ---\n",
      "hoy es un bun día para aplausos aplausos aplausos aplausos aplausos aplausos aplausos aplausos aplausos aplausos aplausos aplausos aplausos aplausos aplausos aplausos aplausos aplausos aplausos aplausos\n"
     ]
    }
   ],
   "source": [
    "import sys\n",
    "import os\n",
    "import torch\n",
    "import torch.nn as nn\n",
    "\n",
    "class PMC_PyTorch(nn.Module):\n",
    "    def __init__(self, input_dim, output_dim):\n",
    "        super(PMC_PyTorch, self).__init__()\n",
    "        \n",
    "        self.layer1 = nn.Linear(input_dim, 256)\n",
    "        self.act1 = nn.GELU()\n",
    "        self.layer2 = nn.Linear(256, 128)\n",
    "        self.act2 = nn.GELU()\n",
    "        self.layer3 = nn.Linear(128, output_dim)\n",
    "        self.act3 = nn.Sigmoid()\n",
    "\n",
    "    def forward(self, x):\n",
    "        x = self.act1(self.layer1(x))\n",
    "        x = self.act2(self.layer2(x))\n",
    "        x = self.act3(self.layer3(x))\n",
    "        return x\n",
    "\n",
    "\n",
    "ruta_raiz = os.path.abspath(os.path.join(os.getcwd(), '..'))\n",
    "if ruta_raiz not in sys.path:\n",
    "    sys.path.append(ruta_raiz)\n",
    "\n",
    "from funciones_auxiliares import generar_prediccion, cargar_corpus, cargar_modelo, cargar_modelo_pytorch\n",
    "corpus, vocab, vocab_size, word_to_idx, idx_to_word = cargar_corpus(\"mini_corpus.txt\")\n",
    "W1, W2, N, C, eta = cargar_modelo(\"pesos_cbow_pcshavak-mini_epoca999.npz\", \"weights\")\n",
    "device = torch.device(\"cuda\" if torch.cuda.is_available() else \"cpu\")\n",
    "model = cargar_modelo_pytorch(\"PMC/modelo.pth\")\n",
    "\n",
    "contexto_inicial = \"hoy es un bun día para\"\n",
    "NUEVAS_PALABRAS = 20\n",
    "TAMANO_VENTANA = 10\n",
    "\n",
    "print(f\"Generando texto desde: '{contexto_inicial}'\")\n",
    "print(\"-\" * 30)\n",
    "\n",
    "texto_generado_softmax = generar_prediccion(contexto_inicial_str=contexto_inicial, longitud_maxima=NUEVAS_PALABRAS, model=model,\n",
    "    W1=W1, W2=W2, word_to_idx=word_to_idx, idx_to_word=idx_to_word, device=device, tam_ventana=TAMANO_VENTANA, usar_softmax=True)\n",
    "\n",
    "print(\"\\n--- Con Softmax (Muestreo) ---\")\n",
    "print(texto_generado_softmax)\n",
    "\n",
    "texto_generado_greedy = generar_prediccion(contexto_inicial_str=contexto_inicial, longitud_maxima=NUEVAS_PALABRAS, model=model,\n",
    "    W1=W1, W2=W2, word_to_idx=word_to_idx, idx_to_word=idx_to_word, device=device, tam_ventana=TAMANO_VENTANA, usar_softmax=False)\n",
    "\n",
    "print(\"\\n--- Sin Softmax (Greedy/Argmax) ---\")\n",
    "print(texto_generado_greedy)"
   ]
  }
 ],
 "metadata": {
  "kernelspec": {
   "display_name": "nlp-env",
   "language": "python",
   "name": "python3"
  },
  "language_info": {
   "codemirror_mode": {
    "name": "ipython",
    "version": 3
   },
   "file_extension": ".py",
   "mimetype": "text/x-python",
   "name": "python",
   "nbconvert_exporter": "python",
   "pygments_lexer": "ipython3",
   "version": "3.10.11"
  }
 },
 "nbformat": 4,
 "nbformat_minor": 5
}
