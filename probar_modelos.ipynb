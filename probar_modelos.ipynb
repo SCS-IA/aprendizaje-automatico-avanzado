{
 "cells": [
  {
   "cell_type": "markdown",
   "id": "5831502a",
   "metadata": {},
   "source": [
    "Carga de corpus"
   ]
  },
  {
   "cell_type": "code",
   "execution_count": null,
   "id": "edbc2417",
   "metadata": {},
   "outputs": [],
   "source": [
    "from funciones_auxiliares import cargar_corpus\n",
    "\n",
    "corpus, vocab, vocab_size, word_to_idx, idx_to_word = cargar_corpus(\"corpus.txt\")"
   ]
  },
  {
   "cell_type": "markdown",
   "id": "c24d1258",
   "metadata": {},
   "source": [
    "Función para ver las palabras con mayor similitud"
   ]
  },
  {
   "cell_type": "code",
   "execution_count": null,
   "id": "bddcbd10",
   "metadata": {},
   "outputs": [],
   "source": [
    "from funciones_auxiliares import ver_palabras_similares\n",
    "\n",
    "ver_palabras_similares(corpus, word_to_idx, idx_to_word, \"casa\", W1, 5)"
   ]
  },
  {
   "cell_type": "markdown",
   "id": "19b22a13",
   "metadata": {},
   "source": [
    "* Aciertos Top-5: 65761/310339 (21.19%)\n",
    "\n",
    "* Aciertos Top-5: 228019/310339 (73.47%) | (epocas=850, C=4, N=100, eta=0.001)\n",
    "\n",
    "* Aciertos Top-5: 257255/310339 (82.89%) | Aciertos estrictos: 186972/310339 (60.25%) | (epocas=1300, C=4, N=100, eta=0.001)\n",
    "\n",
    "* Aciertos Top-5: 263987/310339 (85.06%) | Aciertos estrictos: 199516/310339 (64.29%) | (epocas=1500, C=4, N=100, eta=0.001)\n",
    "\n",
    "* Aciertos Top-5: 266924/310339 (86.01%) | Aciertos estrictos: 204177/310339 (65.79%) | (epocas=1500, C=4, N=100, eta=0.001)"
   ]
  },
  {
   "cell_type": "code",
   "execution_count": 2,
   "id": "592207f2",
   "metadata": {},
   "outputs": [
    {
     "name": "stdout",
     "output_type": "stream",
     "text": [
      "Tamaño de corpus: 359142\n",
      "Tamaño de vocabulario: 9676\n",
      "Progreso: [100.0%] - Top-5: 77.20% | Estrictos: 51.28%\n",
      "Aciertos Top-5: 277240/359122 (77.20%)\n",
      "Aciertos estrictos: 184191/359122 (51.29%)\n"
     ]
    }
   ],
   "source": [
    "from funciones_auxiliares import generar_tuplas_central_contexto, evaluar_cbow_np, cargar_modelo, cargar_corpus\n",
    "\n",
    "#W1, W2, N, C, eta = cargar_modelo(\"pesos_cbow_pcshavak-b_epoca500.npz\", \"relevant_weights\")\n",
    "#W1, W2, N, C, eta = cargar_modelo(\"pesos_cbow_pc1-a_epoca750.npz\", \"relevant_weights\")\n",
    "#W1, W2, N, C, eta = cargar_modelo(\"pesos_cbow_pc2-b_epoca199.npz\", \"relevant_weights\")\n",
    "#W1, W2, N, C, eta = cargar_modelo(\"pesos_cbow_epoca1400_neurona_oculta100.npz\", \"relevant_weights\")\n",
    "#W1, W2, N, C, eta = cargar_modelo(\"pesos_cbow_pcshavak-c_epoca1300.npz\", \"weights\")\n",
    "#W1, W2, N, C, eta = cargar_modelo(\"pesos_cbow_mejores_epoca500_neurona_oculta130.npz\", \"relevant_weights\")\n",
    "#W1, W2, N, C, eta = cargar_modelo(\"pesos_cbow_epoca1000_neurona_oculta130.npz\", \"relevant_weights\")\n",
    "#W1, W2, N, C, eta = cargar_modelo(\"pesos_cbow_pcshavak-c_epoca1500.npz\", \"weights\")\n",
    "#W1, W2, N, C, eta = cargar_modelo(\"pesos_cbow_pcshavak-c_epoca1550.npz\", \"weights\")\n",
    "#W1, W2, N, C, eta = cargar_modelo(\"pesos_cbow_pcshavak-c_epoca1600.npz\", \"weights\") # MEJOR HASTA EL MOMENTO\n",
    "W1, W2, N, C, eta = cargar_modelo(\"pesos_cbow_pcshavak-BPE10000_epoca500.npz\", \"weights\")\n",
    "corpus, vocab, vocab_size, word_to_idx, idx_to_word = cargar_corpus(\"corpus_bpe10000.txt\", \"BPE10000\")\n",
    "\n",
    "indice_tuplas = generar_tuplas_central_contexto(corpus, word_to_idx, C=C)\n",
    "aciertos_topN, aciertos_estrictos, totales = evaluar_cbow_np(indice_tuplas, W1, W2, N=5)"
   ]
  },
  {
   "cell_type": "code",
   "execution_count": null,
   "id": "e9011055",
   "metadata": {},
   "outputs": [],
   "source": [
    "from funciones_auxiliares import embeber_datos, cargar_corpus, cargar_modelo\n",
    "\n",
    "corpus, vocab, vocab_size, word_to_idx, idx_to_word = cargar_corpus(\"corpus.txt\", \"corpus\")\n",
    "W1, W2, N, C, eta = cargar_modelo(\"pesos_cbow_pcshavak-c_epoca1600.npz\", \"weights\") # MEJOR HASTA EL MOMENTO\n",
    "x_train, y_train = embeber_datos(corpus, W1, word_to_idx)\n",
    "\n",
    "print(\"x_train shape:\", x_train.shape)\n",
    "print(\"y_train shape:\", y_train.shape)\n"
   ]
  },
  {
   "cell_type": "code",
   "execution_count": null,
   "id": "1b7e3369",
   "metadata": {},
   "outputs": [],
   "source": [
    "from funciones_auxiliares import generar_tuplas_central_contexto, evaluar_cbow_np, cargar_modelo, cargar_corpus\n",
    "\n",
    "corpus, vocab, vocab_size, word_to_idx, idx_to_word = cargar_corpus(\"corpus_bpe.txt\", \"BPE\")\n",
    "W1, W2, N, C, eta = cargar_modelo(\"pesos_cbow_pcshavak-BPE_epoca350.npz\", \"weights\")\n",
    "\n",
    "indice_tuplas = generar_tuplas_central_contexto(corpus, word_to_idx, C=C)\n",
    "aciertos_topN, aciertos_estrictos, totales = evaluar_cbow_np(indice_tuplas, W1, W2, N=5)"
   ]
  },
  {
   "cell_type": "code",
   "execution_count": 7,
   "id": "69313864",
   "metadata": {},
   "outputs": [
    {
     "name": "stdout",
     "output_type": "stream",
     "text": [
      "Tamaño de corpus: 310347\n",
      "Tamaño de vocabulario: 27971\n",
      "4.11679507132339\n"
     ]
    }
   ],
   "source": [
    "from funciones_auxiliares import cargar_corpus\n",
    "\n",
    "corpus, vocab, vocab_size, word_to_idx, idx_to_word = cargar_corpus(\"corpus.txt\")\n",
    "\n",
    "media = sum(len(p) for p in corpus) / len(corpus)\n",
    "print(media)\n"
   ]
  }
 ],
 "metadata": {
  "kernelspec": {
   "display_name": "Python 3",
   "language": "python",
   "name": "python3"
  },
  "language_info": {
   "codemirror_mode": {
    "name": "ipython",
    "version": 3
   },
   "file_extension": ".py",
   "mimetype": "text/x-python",
   "name": "python",
   "nbconvert_exporter": "python",
   "pygments_lexer": "ipython3",
   "version": "3.10.11"
  }
 },
 "nbformat": 4,
 "nbformat_minor": 5
}
