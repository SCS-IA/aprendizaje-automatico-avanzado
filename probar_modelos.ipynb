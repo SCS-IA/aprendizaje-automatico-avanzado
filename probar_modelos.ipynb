{
 "cells": [
  {
   "cell_type": "markdown",
   "id": "5831502a",
   "metadata": {},
   "source": [
    "Carga de corpus"
   ]
  },
  {
   "cell_type": "code",
   "execution_count": 1,
   "id": "edbc2417",
   "metadata": {},
   "outputs": [
    {
     "name": "stdout",
     "output_type": "stream",
     "text": [
      "Tamaño de corpus: 310347\n",
      "Tamaño de vocabulario: 27971\n"
     ]
    }
   ],
   "source": [
    "from funciones_auxiliares import cargar_corpus\n",
    "\n",
    "corpus, vocab, vocab_size, word_to_idx, idx_to_word = cargar_corpus(\"corpus.txt\")"
   ]
  },
  {
   "cell_type": "markdown",
   "id": "c24d1258",
   "metadata": {},
   "source": [
    "Función para ver las palabras con mayor similitud"
   ]
  },
  {
   "cell_type": "code",
   "execution_count": null,
   "id": "bddcbd10",
   "metadata": {},
   "outputs": [],
   "source": [
    "from funciones_auxiliares import ver_palabras_similares\n",
    "\n",
    "ver_palabras_similares(corpus, word_to_idx, idx_to_word, \"casa\", W1, 5)"
   ]
  },
  {
   "cell_type": "markdown",
   "id": "19b22a13",
   "metadata": {},
   "source": [
    "* Aciertos Top-5: 65761/310339 (21.19%)\n",
    "\n",
    "* Aciertos Top-5: 228019/310339 (73.47%) | (epocas=850, C=4, N=100, eta=0.001)\n",
    "\n",
    "* Aciertos Top-5: 257255/310339 (82.89%) | Aciertos estrictos: 186972/310339 (60.25%) | (epocas=1300, C=4, N=100, eta=0.001)\n",
    "\n",
    "* Aciertos Top-5: 263987/310339 (85.06%) | Aciertos estrictos: 199516/310339 (64.29%) | (epocas=1500, C=4, N=100, eta=0.001)\n",
    "\n",
    "* Aciertos Top-5: 266924/310339 (86.01%) | Aciertos estrictos: 204177/310339 (65.79%) | (epocas=1500, C=4, N=100, eta=0.001)"
   ]
  },
  {
   "cell_type": "code",
   "execution_count": null,
   "id": "592207f2",
   "metadata": {},
   "outputs": [],
   "source": [
    "from funciones_auxiliares import generar_tuplas_central_contexto, evaluar_cbow_np, cargar_modelo\n",
    "\n",
    "#W1, W2, N, C, eta = cargar_modelo(\"pesos_cbow_pcshavak-b_epoca500.npz\", \"relevant_weights\")\n",
    "#W1, W2, N, C, eta = cargar_modelo(\"pesos_cbow_pc1-a_epoca750.npz\", \"relevant_weights\")\n",
    "#W1, W2, N, C, eta = cargar_modelo(\"pesos_cbow_pc2-b_epoca199.npz\", \"relevant_weights\")\n",
    "#W1, W2, N, C, eta = cargar_modelo(\"pesos_cbow_epoca1400_neurona_oculta100.npz\", \"relevant_weights\")\n",
    "#W1, W2, N, C, eta = cargar_modelo(\"pesos_cbow_pcshavak-c_epoca1300.npz\", \"weights\")\n",
    "#W1, W2, N, C, eta = cargar_modelo(\"pesos_cbow_mejores_epoca500_neurona_oculta130.npz\", \"relevant_weights\")\n",
    "#W1, W2, N, C, eta = cargar_modelo(\"pesos_cbow_epoca1000_neurona_oculta130.npz\", \"relevant_weights\")\n",
    "#W1, W2, N, C, eta = cargar_modelo(\"pesos_cbow_pcshavak-c_epoca1500.npz\", \"weights\")\n",
    "#W1, W2, N, C, eta = cargar_modelo(\"pesos_cbow_pcshavak-c_epoca1550.npz\", \"weights\")\n",
    "W1, W2, N, C, eta = cargar_modelo(\"pesos_cbow_pcshavak-c_epoca1600.npz\", \"weights\") # MEJOR HASTA EL MOMENTO\n",
    "\n",
    "\n",
    "indice_tuplas = generar_tuplas_central_contexto(corpus, word_to_idx, C=C)\n",
    "aciertos_topN, aciertos_estrictos, totales = evaluar_cbow_np(indice_tuplas, W1, W2, N=5)"
   ]
  },
  {
   "cell_type": "code",
   "execution_count": null,
   "id": "e9011055",
   "metadata": {},
   "outputs": [
    {
     "name": "stdout",
     "output_type": "stream",
     "text": [
      "Tamaño de corpus: 310347\n",
      "Tamaño de vocabulario: 27971\n",
      "x_train shape: (310346, 100)\n",
      "y_train shape: (310346, 100)\n",
      "[ 1.07864962  0.98213068 -0.16265269  0.67411054 -0.24152345  0.59768676\n",
      "  1.00246756 -1.68240907  0.23282004 -0.41406257 -0.40247891  0.90993397\n",
      " -0.29055349 -0.97773893  0.62762046 -3.05854016 -1.09124841 -1.36251763\n",
      " -0.76781093 -1.97892823 -0.5325974  -0.90400601  0.4840565  -0.46061225\n",
      "  2.02405987  0.16205244 -0.08270465 -0.65961249 -1.33222923 -0.43648166\n",
      " -0.00656287  0.40322191  0.03683964  0.2799321  -0.28688107 -1.28623317\n",
      " -0.63402729 -0.08781099  2.8430153   1.31012451 -0.9762893   1.50097438\n",
      " -0.00575786 -0.5790882   1.13134555  0.30500428  1.284484   -0.1354824\n",
      "  0.09347057  1.30566965 -0.78020845  2.14359924 -1.53167586 -0.25443164\n",
      "  0.4150598  -0.7522828   0.55609106 -1.50532289 -0.9712011  -1.56483638\n",
      "  0.2579424  -0.41973242 -0.20516007 -0.8156248  -0.25447719 -1.18245697\n",
      "  0.70265681  1.10601964 -1.19469192 -0.8896033  -0.55480468  0.44780175\n",
      "  0.08514389 -1.68897744 -1.19594811  0.62388862 -0.19156038 -0.40530281\n",
      " -0.31429964 -0.64148351 -1.59504998 -1.76131383  0.86067335 -0.64338926\n",
      "  1.1598551  -1.08167615 -0.87437939 -1.51890852  1.42688184 -0.38944869\n",
      "  2.88076765 -0.75569005 -0.87825877  0.36275811  0.90021446 -0.8278136\n",
      "  0.5367461   1.0678958  -0.10685423  0.83278645]\n"
     ]
    }
   ],
   "source": [
    "from funciones_auxiliares import embeber_datos, cargar_corpus, cargar_modelo\n",
    "\n",
    "corpus, vocab, vocab_size, word_to_idx, idx_to_word = cargar_corpus(\"corpus.txt\", \"corpus\")\n",
    "W1, W2, N, C, eta = cargar_modelo(\"pesos_cbow_pcshavak-c_epoca1600.npz\", \"weights\") # MEJOR HASTA EL MOMENTO\n",
    "x_train, y_train = embeber_datos(corpus, W1, word_to_idx)\n",
    "\n",
    "print(\"x_train shape:\", x_train.shape)\n",
    "print(\"y_train shape:\", y_train.shape)\n"
   ]
  },
  {
   "cell_type": "code",
   "execution_count": 2,
   "id": "824ce1c2",
   "metadata": {},
   "outputs": [
    {
     "name": "stdout",
     "output_type": "stream",
     "text": [
      "Tamaño de corpus: 57057\n",
      "Tamaño de vocabulario: 10607\n",
      "Progreso: [99.9%] - Top-5: 99.95% | Estrictos: 98.98%%\n",
      "Aciertos Top-5: 57022/57049 (99.95%)\n",
      "Aciertos estrictos: 56466/57049 (98.98%)\n"
     ]
    }
   ],
   "source": [
    "from funciones_auxiliares import generar_tuplas_central_contexto, evaluar_cbow_np, cargar_modelo, cargar_corpus\n",
    "\n",
    "corpus, vocab, vocab_size, word_to_idx, idx_to_word = cargar_corpus(\"mini_corpus.txt\")\n",
    "W1, W2, N, C, eta = cargar_modelo(\"pesos_cbow_pcshavak-mini_epoca999.npz\", \"weights\")\n",
    "\n",
    "indice_tuplas = generar_tuplas_central_contexto(corpus, word_to_idx, C=C)\n",
    "aciertos_topN, aciertos_estrictos, totales = evaluar_cbow_np(indice_tuplas, W1, W2, N=5)"
   ]
  }
 ],
 "metadata": {
  "kernelspec": {
   "display_name": "Python 3",
   "language": "python",
   "name": "python3"
  },
  "language_info": {
   "codemirror_mode": {
    "name": "ipython",
    "version": 3
   },
   "file_extension": ".py",
   "mimetype": "text/x-python",
   "name": "python",
   "nbconvert_exporter": "python",
   "pygments_lexer": "ipython3",
   "version": "3.10.11"
  }
 },
 "nbformat": 4,
 "nbformat_minor": 5
}
