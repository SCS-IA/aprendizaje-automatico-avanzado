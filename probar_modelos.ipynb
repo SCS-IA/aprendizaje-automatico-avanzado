{
 "cells": [
  {
   "cell_type": "markdown",
   "id": "5831502a",
   "metadata": {},
   "source": [
    "Carga de corpus"
   ]
  },
  {
   "cell_type": "code",
   "execution_count": 1,
   "id": "edbc2417",
   "metadata": {},
   "outputs": [
    {
     "name": "stdout",
     "output_type": "stream",
     "text": [
      "Tamaño de corpus: 310347\n",
      "Tamaño de vocabulario: 27971\n"
     ]
    }
   ],
   "source": [
    "from funciones_auxiliares import cargar_corpus\n",
    "\n",
    "corpus, vocab, vocab_size, word_to_idx, idx_to_word = cargar_corpus(\"corpus.txt\")"
   ]
  },
  {
   "cell_type": "code",
   "execution_count": 2,
   "id": "a54e9dd1",
   "metadata": {},
   "outputs": [],
   "source": [
    "from funciones_auxiliares import cargar_corpus\n",
    "\n",
    "#corpus, vocab, vocab_size, word_to_idx, idx_to_word = cargar_corpus(\"corpus_mayus.txt\")"
   ]
  },
  {
   "cell_type": "markdown",
   "id": "521f91f6",
   "metadata": {},
   "source": [
    "Función para cargar los pesos"
   ]
  },
  {
   "cell_type": "code",
   "execution_count": 3,
   "id": "44dcdc1f",
   "metadata": {},
   "outputs": [
    {
     "name": "stdout",
     "output_type": "stream",
     "text": [
      "Shape de W: (27971, 120), Shape de W':(120, 27971), Tipo: <class 'numpy.ndarray'>\n",
      "\n",
      "[ 0.36748743 -0.19715143  1.28296385 -0.96255604  0.99043318 -0.16328539\n",
      "  0.11769413  0.75488689 -0.23749185 -0.91311833 -1.6330344  -0.08382895\n",
      "  0.14513521 -0.77740925  0.91079835  0.95014851  0.98992238 -1.64958177\n",
      "  0.69260807 -0.76253014 -1.00283556  0.54976851  0.27484906 -0.2468177\n",
      "  0.05028521 -0.50289987  0.4333428   2.02841593  1.00255102 -0.09506113\n",
      "  1.03576388  0.62262992 -0.10202967  0.89418007 -0.28027482 -0.20786267\n",
      "  0.97759615 -0.21980787  0.67511312  0.94249738  0.09848681 -0.55862558\n",
      "  0.65961879 -0.3677726   1.80273655 -0.75787479  0.4504605  -1.72067454\n",
      " -0.29453959 -0.78445272 -0.59097703 -1.04218215  1.10107509 -0.82735752\n",
      " -0.23156373  0.35206569 -0.45885533  0.634414    0.93456166  1.22721187\n",
      "  0.58571207  0.37847379  0.0871254   0.31678744  0.10146522 -0.07928611\n",
      "  0.08956141 -0.67952014 -0.2825868  -0.88025682  0.14163463  0.10913621\n",
      "  0.64685734  0.23398462  1.04109282  0.5657317   0.00374471 -0.54561788\n",
      "  1.76228686  1.21940313  0.39359614 -0.85706364  1.3272399  -0.0862021\n",
      "  0.79999688  0.18805103  0.8879433  -0.04845453  0.22284789  0.14772824\n",
      " -0.06235957 -0.50804235 -0.22490124  0.81633937  0.12283865 -0.40244095\n",
      "  1.31968344  0.06236094 -0.13408918 -0.2618798   0.80960494  0.4063214\n",
      "  0.50372785 -0.47280325  0.57610971  0.06268397  0.19632106  0.23883989\n",
      "  0.65537769  0.42729502  1.56824904 -0.11399759 -0.34238104 -0.12367888\n",
      " -2.2729701   0.1743389   0.43600139  1.23056433 -0.29347905 -0.52158605]\n"
     ]
    }
   ],
   "source": [
    "from funciones_auxiliares import cargar_modelo\n",
    "\n",
    "W1, W2, N, C, eta = cargar_modelo(\"pesos_cbow_pcshavak-b_epoca500.npz\")\n",
    "print(f\"Shape de W: {W1.shape}, Shape de W':{W2.shape}, Tipo: {type(W1)}\\n\")\n",
    "\n",
    "print(W1[11])"
   ]
  },
  {
   "cell_type": "markdown",
   "id": "c24d1258",
   "metadata": {},
   "source": [
    "Función para ver las palabras con mayor similitud"
   ]
  },
  {
   "cell_type": "code",
   "execution_count": 4,
   "id": "bddcbd10",
   "metadata": {},
   "outputs": [
    {
     "name": "stdout",
     "output_type": "stream",
     "text": [
      "Palabras similares a 'y': [',', 'de', 'la', '.', 'que']\n"
     ]
    }
   ],
   "source": [
    "from funciones_auxiliares import ver_palabras_similares\n",
    "\n",
    "ver_palabras_similares(corpus, word_to_idx, idx_to_word, \"y\", W1, 5)"
   ]
  },
  {
   "cell_type": "markdown",
   "id": "19b22a13",
   "metadata": {},
   "source": [
    "Cantidad de aciertos (Top-5): 65761/310339, esto es un 21.19%, "
   ]
  },
  {
   "cell_type": "code",
   "execution_count": 7,
   "id": "592207f2",
   "metadata": {},
   "outputs": [
    {
     "name": "stdout",
     "output_type": "stream",
     "text": [
      "Cantidad de aciertos (Top-5): 65761/310339, esto es un 21.19%, \n"
     ]
    }
   ],
   "source": [
    "from funciones_auxiliares import generar_tuplas_central_contexto, evaluar_cbow\n",
    "\n",
    "indice_tuplas = generar_tuplas_central_contexto(corpus, word_to_idx, C=4)\n",
    "aciertos, totales = evaluar_cbow(indice_tuplas, W1, W2, N=5)"
   ]
  }
 ],
 "metadata": {
  "kernelspec": {
   "display_name": "Python 3",
   "language": "python",
   "name": "python3"
  },
  "language_info": {
   "codemirror_mode": {
    "name": "ipython",
    "version": 3
   },
   "file_extension": ".py",
   "mimetype": "text/x-python",
   "name": "python",
   "nbconvert_exporter": "python",
   "pygments_lexer": "ipython3",
   "version": "3.10.11"
  }
 },
 "nbformat": 4,
 "nbformat_minor": 5
}
