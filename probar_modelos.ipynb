{
 "cells": [
  {
   "cell_type": "markdown",
   "id": "5831502a",
   "metadata": {},
   "source": [
    "Carga de corpus"
   ]
  },
  {
   "cell_type": "code",
   "execution_count": 1,
   "id": "edbc2417",
   "metadata": {},
   "outputs": [
    {
     "name": "stdout",
     "output_type": "stream",
     "text": [
      "Tamaño de corpus: 310347\n",
      "Tamaño de vocabulario: 27971\n"
     ]
    }
   ],
   "source": [
    "from funciones_auxiliares import cargar_corpus\n",
    "\n",
    "corpus, vocab, vocab_size, word_to_idx, idx_to_word = cargar_corpus(\"corpus.txt\")"
   ]
  },
  {
   "cell_type": "code",
   "execution_count": 2,
   "id": "a54e9dd1",
   "metadata": {},
   "outputs": [
    {
     "name": "stdout",
     "output_type": "stream",
     "text": [
      "Tamaño de corpus: 310347\n",
      "Tamaño de vocabulario: 30283\n"
     ]
    }
   ],
   "source": [
    "from funciones_auxiliares import cargar_corpus\n",
    "\n",
    "corpus, vocab, vocab_size, word_to_idx, idx_to_word = cargar_corpus(\"corpus_mayus.txt\")"
   ]
  },
  {
   "cell_type": "markdown",
   "id": "521f91f6",
   "metadata": {},
   "source": [
    "Función para cargar los pesos"
   ]
  },
  {
   "cell_type": "code",
   "execution_count": 3,
   "id": "44dcdc1f",
   "metadata": {},
   "outputs": [
    {
     "name": "stdout",
     "output_type": "stream",
     "text": [
      "Shape de W: (30283, 20), Shape de W':(20, 30283), Tipo: <class 'numpy.ndarray'>\n",
      "\n",
      "[ 1.53595329e+148 -1.98615679e+148  1.63991435e+147 -5.05758688e+147\n",
      "  9.75188295e+147  2.99421240e+147  3.29776916e+147 -1.33709653e+147\n",
      " -2.39624757e+148  3.03009537e+147 -2.31141638e+147  3.34175157e+147\n",
      "  1.52633619e+148  3.75565540e+147  4.87532634e+147 -3.78415215e+147\n",
      " -1.32828745e+148 -4.61732193e+147 -6.86349587e+147  7.02274818e+145]\n"
     ]
    }
   ],
   "source": [
    "from funciones_auxiliares import cargar_modelo\n",
    "\n",
    "W1, W2, N, C, eta = cargar_modelo(\"pesos_cbow_pcshavak_epoca900.npz\")\n",
    "print(f\"Shape de W: {W1.shape}, Shape de W':{W2.shape}, Tipo: {type(W1)}\\n\")\n",
    "\n",
    "print(W1[11])"
   ]
  },
  {
   "cell_type": "markdown",
   "id": "c24d1258",
   "metadata": {},
   "source": [
    "Función para ver las palabras con mayor similitud"
   ]
  },
  {
   "cell_type": "code",
   "execution_count": 5,
   "id": "bddcbd10",
   "metadata": {},
   "outputs": [
    {
     "name": "stdout",
     "output_type": "stream",
     "text": [
      "Palabras similares a 'y': [',', 'de', 'la', 'que', '.']\n"
     ]
    }
   ],
   "source": [
    "from funciones_auxiliares import ver_palabras_similares\n",
    "\n",
    "ver_palabras_similares(corpus, word_to_idx, idx_to_word, \"y\", W1, 5)"
   ]
  },
  {
   "cell_type": "markdown",
   "id": "99e6afaf",
   "metadata": {},
   "source": [
    "Ver contexto de una palabra"
   ]
  }
 ],
 "metadata": {
  "kernelspec": {
   "display_name": "Python 3",
   "language": "python",
   "name": "python3"
  },
  "language_info": {
   "codemirror_mode": {
    "name": "ipython",
    "version": 3
   },
   "file_extension": ".py",
   "mimetype": "text/x-python",
   "name": "python",
   "nbconvert_exporter": "python",
   "pygments_lexer": "ipython3",
   "version": "3.10.11"
  }
 },
 "nbformat": 4,
 "nbformat_minor": 5
}
