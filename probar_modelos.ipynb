{
 "cells": [
  {
   "cell_type": "markdown",
   "id": "5831502a",
   "metadata": {},
   "source": [
    "Carga de corpus"
   ]
  },
  {
   "cell_type": "code",
   "execution_count": null,
   "id": "edbc2417",
   "metadata": {},
   "outputs": [],
   "source": [
    "from funciones_auxiliares import cargar_corpus\n",
    "\n",
    "corpus, vocab, vocab_size, word_to_idx, idx_to_word = cargar_corpus(\"corpus.txt\")"
   ]
  },
  {
   "cell_type": "code",
   "execution_count": null,
   "id": "a54e9dd1",
   "metadata": {},
   "outputs": [],
   "source": [
    "from funciones_auxiliares import cargar_corpus\n",
    "\n",
    "#corpus, vocab, vocab_size, word_to_idx, idx_to_word = cargar_corpus(\"corpus_mayus.txt\")"
   ]
  },
  {
   "cell_type": "markdown",
   "id": "521f91f6",
   "metadata": {},
   "source": [
    "Función para cargar los pesos"
   ]
  },
  {
   "cell_type": "code",
   "execution_count": null,
   "id": "44dcdc1f",
   "metadata": {},
   "outputs": [],
   "source": [
    "from funciones_auxiliares import cargar_modelo\n",
    "\n",
    "#W1, W2, N, C, eta = cargar_modelo(\"pesos_cbow_pcshavak-b_epoca500.npz\", \"relevant_weights\")\n",
    "#W1, W2, N, C, eta = cargar_modelo(\"pesos_cbow_pc1-a_epoca750.npz\", \"relevant_weights\")\n",
    "#W1, W2, N, C, eta = cargar_modelo(\"pesos_cbow_pc2-b_epoca199.npz\", \"relevant_weights\")\n",
    "W1, W2, N, C, eta = cargar_modelo(\"pesos_cbow_epoca1400_neurona_oculta100.npz\", \"relevant_weights\")\n",
    "print(f\"Shape de W: {W1.shape}, Shape de W':{W2.shape}, Tipo: {type(W1)}\\n\")\n",
    "\n",
    "print(W1[11])"
   ]
  },
  {
   "cell_type": "markdown",
   "id": "c24d1258",
   "metadata": {},
   "source": [
    "Función para ver las palabras con mayor similitud"
   ]
  },
  {
   "cell_type": "code",
   "execution_count": null,
   "id": "bddcbd10",
   "metadata": {},
   "outputs": [],
   "source": [
    "from funciones_auxiliares import ver_palabras_similares\n",
    "\n",
    "ver_palabras_similares(corpus, word_to_idx, idx_to_word, \"y\", W1, 5)"
   ]
  },
  {
   "cell_type": "markdown",
   "id": "19b22a13",
   "metadata": {},
   "source": [
    "Cantidad de aciertos (Top-5): 65761/310339, esto es un 21.19%, "
   ]
  },
  {
   "cell_type": "code",
   "execution_count": null,
   "id": "592207f2",
   "metadata": {},
   "outputs": [],
   "source": [
    "from funciones_auxiliares import generar_tuplas_central_contexto, evaluar_cbow\n",
    "\n",
    "indice_tuplas = generar_tuplas_central_contexto(corpus, word_to_idx, C=4)\n",
    "aciertos, totales = evaluar_cbow(indice_tuplas, W1, W2, N=5)"
   ]
  }
 ],
 "metadata": {
  "kernelspec": {
   "display_name": "Python 3",
   "language": "python",
   "name": "python3"
  },
  "language_info": {
   "codemirror_mode": {
    "name": "ipython",
    "version": 3
   },
   "file_extension": ".py",
   "mimetype": "text/x-python",
   "name": "python",
   "nbconvert_exporter": "python",
   "pygments_lexer": "ipython3",
   "version": "3.10.11"
  }
 },
 "nbformat": 4,
 "nbformat_minor": 5
}
