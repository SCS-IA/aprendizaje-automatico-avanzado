{
 "cells": [
  {
   "cell_type": "markdown",
   "id": "5831502a",
   "metadata": {},
   "source": [
    "Carga de corpus"
   ]
  },
  {
   "cell_type": "code",
   "execution_count": 1,
   "id": "edbc2417",
   "metadata": {},
   "outputs": [
    {
     "name": "stdout",
     "output_type": "stream",
     "text": [
      "Tamaño de corpus: 310347\n",
      "Tamaño de vocabulario: 27971\n"
     ]
    }
   ],
   "source": [
    "from funciones_auxiliares import cargar_corpus\n",
    "\n",
    "corpus, vocab, vocab_size, word_to_idx, idx_to_word = cargar_corpus(\"corpus.txt\")"
   ]
  },
  {
   "cell_type": "code",
   "execution_count": 2,
   "id": "a54e9dd1",
   "metadata": {},
   "outputs": [
    {
     "name": "stdout",
     "output_type": "stream",
     "text": [
      "Tamaño de corpus: 310347\n",
      "Tamaño de vocabulario: 30283\n"
     ]
    }
   ],
   "source": [
    "from funciones_auxiliares import cargar_corpus\n",
    "\n",
    "corpus, vocab, vocab_size, word_to_idx, idx_to_word = cargar_corpus(\"corpus_mayus.txt\")"
   ]
  },
  {
   "cell_type": "markdown",
   "id": "521f91f6",
   "metadata": {},
   "source": [
    "Función para cargar los pesos"
   ]
  },
  {
   "cell_type": "code",
   "execution_count": 8,
   "id": "44dcdc1f",
   "metadata": {},
   "outputs": [
    {
     "name": "stdout",
     "output_type": "stream",
     "text": [
      "Shape de W: (27971, 120), Shape de W':(120, 27971), Tipo: <class 'numpy.ndarray'>\n",
      "\n",
      "[-0.06250953 -0.10155467  0.17636438 -0.1366386  -0.15146704  0.1662255\n",
      "  0.07008441 -0.04072658  0.03962473  0.04632456 -0.11627008 -0.08505641\n",
      "  0.30075241  0.01061025 -0.18339348 -0.16454599 -0.06668665 -0.263583\n",
      "  0.07346857  0.26516308 -0.15152718  0.01378752  0.26725791  0.08016711\n",
      "  0.00725975  0.10571859 -0.07120749  0.03936043  0.04924926 -0.03225571\n",
      "  0.11546049 -0.00139205 -0.1001741  -0.17397541  0.08817501  0.05072639\n",
      " -0.09227376  0.04791742 -0.0808551  -0.14461884  0.21883155  0.00953349\n",
      " -0.13381005  0.05124462  0.10009659  0.04786861  0.08861315 -0.02723988\n",
      "  0.25343196 -0.17957474 -0.04477587  0.03073008 -0.20964958  0.0739514\n",
      " -0.00069992  0.04821033 -0.03407218 -0.12618229 -0.04739206 -0.16697425\n",
      " -0.29390047 -0.00825015 -0.12323248  0.08721637  0.14279721  0.12510905\n",
      " -0.06564079  0.035381    0.15736465 -0.11559023 -0.01783998 -0.10250809\n",
      "  0.08833548 -0.1912188   0.08786923  0.03594606 -0.12755471  0.14451297\n",
      " -0.08367624 -0.13093098 -0.06457844 -0.01385076 -0.03197994 -0.22163926\n",
      "  0.14466604  0.03496488 -0.0755182  -0.08143546  0.20760029 -0.24931841\n",
      " -0.08160739  0.07355238 -0.11006225 -0.19161749  0.14946219 -0.03740614\n",
      "  0.06007491 -0.1694077   0.09351369  0.13095104 -0.02425149  0.05578149\n",
      " -0.07423861 -0.07912594 -0.04658719 -0.03619321 -0.17302825  0.008371\n",
      "  0.0234556  -0.14356384 -0.0474572   0.06745415  0.17145447 -0.00728474\n",
      " -0.15608096  0.1666468   0.15457754 -0.08122374  0.00044266  0.09186878]\n"
     ]
    }
   ],
   "source": [
    "from funciones_auxiliares import cargar_modelo\n",
    "\n",
    "W1, W2, N, C, eta = cargar_modelo(\"pesos_cbow_pcmati_epoca400.npz\")\n",
    "print(f\"Shape de W: {W1.shape}, Shape de W':{W2.shape}, Tipo: {type(W1)}\\n\")\n",
    "\n",
    "print(W1[11])"
   ]
  },
  {
   "cell_type": "markdown",
   "id": "c24d1258",
   "metadata": {},
   "source": [
    "Función para ver las palabras con mayor similitud"
   ]
  },
  {
   "cell_type": "code",
   "execution_count": 11,
   "id": "bddcbd10",
   "metadata": {},
   "outputs": [
    {
     "name": "stdout",
     "output_type": "stream",
     "text": [
      "Palabras similares a 'y': ['.', '. ', 'de', ',', 'que']\n"
     ]
    }
   ],
   "source": [
    "from funciones_auxiliares import ver_palabras_similares\n",
    "\n",
    "ver_palabras_similares(corpus, word_to_idx, idx_to_word, \"y\", W1, 5)"
   ]
  },
  {
   "cell_type": "markdown",
   "id": "99e6afaf",
   "metadata": {},
   "source": [
    "Ver contexto de una palabra"
   ]
  }
 ],
 "metadata": {
  "kernelspec": {
   "display_name": "Python 3",
   "language": "python",
   "name": "python3"
  },
  "language_info": {
   "codemirror_mode": {
    "name": "ipython",
    "version": 3
   },
   "file_extension": ".py",
   "mimetype": "text/x-python",
   "name": "python",
   "nbconvert_exporter": "python",
   "pygments_lexer": "ipython3",
   "version": "3.10.11"
  }
 },
 "nbformat": 4,
 "nbformat_minor": 5
}
