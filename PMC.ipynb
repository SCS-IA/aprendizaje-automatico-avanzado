{
 "cells": [
  {
   "cell_type": "markdown",
   "id": "b7e05fb1",
   "metadata": {},
   "source": [
    "# Modelos"
   ]
  },
  {
   "cell_type": "markdown",
   "id": "c877a945",
   "metadata": {},
   "source": [
    "Modelo con corpus grande"
   ]
  },
  {
   "cell_type": "code",
   "execution_count": 11,
   "id": "2c6bf4ba",
   "metadata": {},
   "outputs": [
    {
     "name": "stdout",
     "output_type": "stream",
     "text": [
      "Tamaño de corpus: 310347\n",
      "Tamaño de vocabulario: 27971\n",
      "Total de pares válidos: 310186\n",
      "Contextos únicos: 309015\n",
      "x_train shape: (310186, 1000)\n",
      "y_train shape: (310186, 100)\n"
     ]
    }
   ],
   "source": [
    "import keras\n",
    "from keras.models import Sequential\n",
    "from keras.layers import Dense, Dropout, Flatten\n",
    "from keras.optimizers import Adam\n",
    "import matplotlib.pyplot as plt\n",
    "\n",
    "from funciones_auxiliares import embeber_datos2, cargar_corpus, cargar_modelo, sigmoide_np\n",
    "\n",
    "corpus, vocab, vocab_size, word_to_idx, idx_to_word = cargar_corpus(\"corpus.txt\", \"corpus\")\n",
    "W1, W2, N, C, eta = cargar_modelo(\"pesos_cbow_pcshavak-c_epoca1600.npz\", \"relevant_weights\") # MEJOR HASTA EL MOMENTO\n",
    "x_train, y_train = embeber_datos2(corpus, W1, word_to_idx, 10)\n",
    "\n",
    "# \"Escalar\" los datos del modelo\n",
    "x_train = sigmoide_np(x_train)\n",
    "y_train = sigmoide_np(y_train)\n",
    "\n",
    "# Datos de entrenamiento\n",
    "print(\"x_train shape:\", x_train.shape)\n",
    "print(\"y_train shape:\", y_train.shape)\n",
    "\n",
    "input_size = x_train.shape[1]\n",
    "output_size = y_train.shape[1]\n",
    "\n",
    "# Definición del modelo\n",
    "model = Sequential()\n",
    "model.add(Dense(512, input_shape=(input_size,), activation='gelu'))\n",
    "model.add(Dense(256, activation='gelu'))\n",
    "model.add(Dense(128, activation='gelu'))\n",
    "model.add(Dense(output_size, activation='sigmoid'))\n",
    "\n",
    "# Compilación\n",
    "model.compile(optimizer=Adam(learning_rate=0.01),\n",
    "              loss='mse',\n",
    "              metrics=['mae'])"
   ]
  },
  {
   "cell_type": "markdown",
   "id": "16e430f0",
   "metadata": {},
   "source": [
    "Modelo con corpus pequeño"
   ]
  },
  {
   "cell_type": "code",
   "execution_count": 15,
   "id": "5a698c3a",
   "metadata": {},
   "outputs": [
    {
     "name": "stdout",
     "output_type": "stream",
     "text": [
      "Tamaño de corpus: 57057\n",
      "Tamaño de vocabulario: 10607\n",
      "Total de pares válidos: 57033\n",
      "Contextos únicos: 57010\n",
      "x_train shape: (57033, 500)\n",
      "y_train shape: (57033, 50)\n"
     ]
    }
   ],
   "source": [
    "import keras\n",
    "from keras.models import Sequential\n",
    "from keras.layers import Dense, Dropout, Flatten\n",
    "from keras.optimizers import Adam\n",
    "import matplotlib.pyplot as plt\n",
    "\n",
    "from funciones_auxiliares import embeber_datos2, cargar_corpus, cargar_modelo, sigmoide_np\n",
    "\n",
    "corpus, vocab, vocab_size, word_to_idx, idx_to_word = cargar_corpus(\"mini_corpus.txt\")\n",
    "W1, W2, N, C, eta = cargar_modelo(\"pesos_cbow_pcshavak-mini_epoca999.npz\", \"weights\")\n",
    "x_train, y_train = embeber_datos2(corpus, W1, word_to_idx, 10)\n",
    "\n",
    "# \"Escalar\" los datos del modelo\n",
    "x_train = sigmoide_np(x_train)\n",
    "y_train = sigmoide_np(y_train)\n",
    "\n",
    "# Datos de entrenamiento\n",
    "print(\"x_train shape:\", x_train.shape)\n",
    "print(\"y_train shape:\", y_train.shape)\n",
    "\n",
    "input_size = x_train.shape[1]\n",
    "output_size = y_train.shape[1]\n",
    "\n",
    "# Definición del modelo\n",
    "model = Sequential()\n",
    "model.add(Dense(256, input_shape=(input_size,), activation='gelu'))\n",
    "model.add(Dense(128, activation='gelu'))\n",
    "model.add(Dense(output_size, activation='sigmoid'))\n",
    "\n",
    "# Compilación\n",
    "model.compile(optimizer=Adam(learning_rate=0.001), # 0.0001\n",
    "              loss='mse',\n",
    "              metrics=['mae'])"
   ]
  },
  {
   "cell_type": "markdown",
   "id": "939d62ca",
   "metadata": {},
   "source": [
    "# Entrenamiento"
   ]
  },
  {
   "cell_type": "code",
   "execution_count": 16,
   "id": "e71dba1f",
   "metadata": {},
   "outputs": [
    {
     "name": "stdout",
     "output_type": "stream",
     "text": [
      "Epoch 1/20\n",
      "\u001b[1m3565/3565\u001b[0m \u001b[32m━━━━━━━━━━━━━━━━━━━━\u001b[0m\u001b[37m\u001b[0m \u001b[1m13s\u001b[0m 3ms/step - loss: 0.1493 - mae: 0.3528\n",
      "Epoch 2/20\n",
      "\u001b[1m3565/3565\u001b[0m \u001b[32m━━━━━━━━━━━━━━━━━━━━\u001b[0m\u001b[37m\u001b[0m \u001b[1m12s\u001b[0m 3ms/step - loss: 0.1486 - mae: 0.3518\n",
      "Epoch 3/20\n",
      "\u001b[1m3565/3565\u001b[0m \u001b[32m━━━━━━━━━━━━━━━━━━━━\u001b[0m\u001b[37m\u001b[0m \u001b[1m10s\u001b[0m 3ms/step - loss: 0.1482 - mae: 0.3510\n",
      "Epoch 4/20\n",
      "\u001b[1m3565/3565\u001b[0m \u001b[32m━━━━━━━━━━━━━━━━━━━━\u001b[0m\u001b[37m\u001b[0m \u001b[1m10s\u001b[0m 3ms/step - loss: 0.1478 - mae: 0.3504\n",
      "Epoch 5/20\n",
      "\u001b[1m3565/3565\u001b[0m \u001b[32m━━━━━━━━━━━━━━━━━━━━\u001b[0m\u001b[37m\u001b[0m \u001b[1m11s\u001b[0m 3ms/step - loss: 0.1475 - mae: 0.3498\n",
      "Epoch 6/20\n",
      "\u001b[1m3565/3565\u001b[0m \u001b[32m━━━━━━━━━━━━━━━━━━━━\u001b[0m\u001b[37m\u001b[0m \u001b[1m10s\u001b[0m 3ms/step - loss: 0.1472 - mae: 0.3493\n",
      "Epoch 7/20\n",
      "\u001b[1m3565/3565\u001b[0m \u001b[32m━━━━━━━━━━━━━━━━━━━━\u001b[0m\u001b[37m\u001b[0m \u001b[1m10s\u001b[0m 3ms/step - loss: 0.1469 - mae: 0.3487\n",
      "Epoch 8/20\n",
      "\u001b[1m3565/3565\u001b[0m \u001b[32m━━━━━━━━━━━━━━━━━━━━\u001b[0m\u001b[37m\u001b[0m \u001b[1m11s\u001b[0m 3ms/step - loss: 0.1466 - mae: 0.3482\n",
      "Epoch 9/20\n",
      "\u001b[1m3565/3565\u001b[0m \u001b[32m━━━━━━━━━━━━━━━━━━━━\u001b[0m\u001b[37m\u001b[0m \u001b[1m10s\u001b[0m 3ms/step - loss: 0.1463 - mae: 0.3476\n",
      "Epoch 10/20\n",
      "\u001b[1m3565/3565\u001b[0m \u001b[32m━━━━━━━━━━━━━━━━━━━━\u001b[0m\u001b[37m\u001b[0m \u001b[1m10s\u001b[0m 3ms/step - loss: 0.1460 - mae: 0.3472\n",
      "Epoch 11/20\n",
      "\u001b[1m3565/3565\u001b[0m \u001b[32m━━━━━━━━━━━━━━━━━━━━\u001b[0m\u001b[37m\u001b[0m \u001b[1m11s\u001b[0m 3ms/step - loss: 0.1458 - mae: 0.3467\n",
      "Epoch 12/20\n",
      "\u001b[1m3565/3565\u001b[0m \u001b[32m━━━━━━━━━━━━━━━━━━━━\u001b[0m\u001b[37m\u001b[0m \u001b[1m15s\u001b[0m 4ms/step - loss: 0.1455 - mae: 0.3463\n",
      "Epoch 13/20\n",
      "\u001b[1m3565/3565\u001b[0m \u001b[32m━━━━━━━━━━━━━━━━━━━━\u001b[0m\u001b[37m\u001b[0m \u001b[1m13s\u001b[0m 4ms/step - loss: 0.1453 - mae: 0.3459\n",
      "Epoch 14/20\n",
      "\u001b[1m3565/3565\u001b[0m \u001b[32m━━━━━━━━━━━━━━━━━━━━\u001b[0m\u001b[37m\u001b[0m \u001b[1m12s\u001b[0m 3ms/step - loss: 0.1451 - mae: 0.3455\n",
      "Epoch 15/20\n",
      "\u001b[1m3565/3565\u001b[0m \u001b[32m━━━━━━━━━━━━━━━━━━━━\u001b[0m\u001b[37m\u001b[0m \u001b[1m15s\u001b[0m 4ms/step - loss: 0.1448 - mae: 0.3450\n",
      "Epoch 16/20\n",
      "\u001b[1m3565/3565\u001b[0m \u001b[32m━━━━━━━━━━━━━━━━━━━━\u001b[0m\u001b[37m\u001b[0m \u001b[1m14s\u001b[0m 4ms/step - loss: 0.1447 - mae: 0.3447\n",
      "Epoch 17/20\n",
      "\u001b[1m3565/3565\u001b[0m \u001b[32m━━━━━━━━━━━━━━━━━━━━\u001b[0m\u001b[37m\u001b[0m \u001b[1m19s\u001b[0m 3ms/step - loss: 0.1444 - mae: 0.3442\n",
      "Epoch 18/20\n",
      "\u001b[1m3565/3565\u001b[0m \u001b[32m━━━━━━━━━━━━━━━━━━━━\u001b[0m\u001b[37m\u001b[0m \u001b[1m14s\u001b[0m 4ms/step - loss: 0.1441 - mae: 0.3437\n",
      "Epoch 19/20\n",
      "\u001b[1m3565/3565\u001b[0m \u001b[32m━━━━━━━━━━━━━━━━━━━━\u001b[0m\u001b[37m\u001b[0m \u001b[1m21s\u001b[0m 4ms/step - loss: 0.1440 - mae: 0.3434\n",
      "Epoch 20/20\n",
      "\u001b[1m3565/3565\u001b[0m \u001b[32m━━━━━━━━━━━━━━━━━━━━\u001b[0m\u001b[37m\u001b[0m \u001b[1m12s\u001b[0m 3ms/step - loss: 0.1438 - mae: 0.3430\n"
     ]
    },
    {
     "data": {
      "image/png": "[encoded data removed]",
      "text/plain": [
       "<Figure size 640x480 with 1 Axes>"
      ]
     },
     "metadata": {},
     "output_type": "display_data"
    }
   ],
   "source": [
    "# Entrenamiento\n",
    "historia = model.fit(x_train, y_train, batch_size=16, epochs=20)\n",
    "\n",
    "# Gráfico de la pérdida\n",
    "plt.plot(historia.history['loss'], label='Entrenamiento')\n",
    "plt.xlabel('Épocas')\n",
    "plt.ylabel('Pérdida (loss)')\n",
    "plt.title('Evolución del error')\n",
    "plt.legend()\n",
    "plt.grid()\n",
    "plt.show()\n",
    "\n",
    "# Guardar el modelo entrenado\n",
    "model.save(\"modelo_pmc.keras\")"
   ]
  },
  {
   "cell_type": "code",
   "execution_count": null,
   "id": "05a11a0e",
   "metadata": {},
   "outputs": [],
   "source": [
    "from keras.models import load_model\n",
    "\n",
    "model = load_model(\"PMC/modelo_pmc.keras\")"
   ]
  },
  {
   "cell_type": "markdown",
   "id": "ad1c7697",
   "metadata": {},
   "source": [
    "# Pruebas"
   ]
  },
  {
   "cell_type": "code",
   "execution_count": null,
   "id": "309d8a30",
   "metadata": {},
   "outputs": [],
   "source": [
    "import numpy as np\n",
    "\n",
    "def evaluar_modelo(model, x, y):\n",
    "    \"\"\"\n",
    "    Calcula el error de un modelo Keras en los datos x, y.\n",
    "    Devuelve MSE y MAE promedio.\n",
    "    \"\"\"\n",
    "    y_pred = model.predict(x, batch_size=32, verbose=0)\n",
    "    mse = np.mean((y - y_pred) ** 2)\n",
    "    mae = np.mean(np.abs(y - y_pred))\n",
    "    return mse, mae\n",
    "\n",
    "mse_train, mae_train = evaluar_modelo(model, x_train, y_train)\n",
    "print(f\"Error en x_train: MSE={mse_train:.6f}, MAE={mae_train:.6f}\")"
   ]
  }
 ],
 "metadata": {
  "kernelspec": {
   "display_name": "nlp-env",
   "language": "python",
   "name": "python3"
  },
  "language_info": {
   "codemirror_mode": {
    "name": "ipython",
    "version": 3
   },
   "file_extension": ".py",
   "mimetype": "text/x-python",
   "name": "python",
   "nbconvert_exporter": "python",
   "pygments_lexer": "ipython3",
   "version": "3.10.11"
  }
 },
 "nbformat": 4,
 "nbformat_minor": 5
}
